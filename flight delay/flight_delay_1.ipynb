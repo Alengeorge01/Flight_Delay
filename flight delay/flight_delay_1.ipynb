{
 "cells": [
  {
   "cell_type": "code",
   "execution_count": 2,
   "metadata": {},
   "outputs": [],
   "source": [
    "import pandas as pd\n",
    "import numpy as np\n",
    "import matplotlib.pyplot as plt\n",
    "import seaborn as sns\n",
    "%matplotlib inline\n"
   ]
  },
  {
   "cell_type": "code",
   "execution_count": 3,
   "metadata": {},
   "outputs": [],
   "source": [
    "headers=['Canceled','Month','DepartureTime','UniqueCarrier','SchedElapsedTime','ArrDelay','DepDelay','Distance']\n",
    "df = pd.read_csv('D:\\\\Machine learning project\\\\flight delay completed\\\\Data_PredictingFlightDelays.csv',names=headers)"
   ]
  },
  {
   "cell_type": "code",
   "execution_count": 4,
   "metadata": {},
   "outputs": [
    {
     "data": {
      "text/html": [
       "<div>\n",
       "<style scoped>\n",
       "    .dataframe tbody tr th:only-of-type {\n",
       "        vertical-align: middle;\n",
       "    }\n",
       "\n",
       "    .dataframe tbody tr th {\n",
       "        vertical-align: top;\n",
       "    }\n",
       "\n",
       "    .dataframe thead th {\n",
       "        text-align: right;\n",
       "    }\n",
       "</style>\n",
       "<table border=\"1\" class=\"dataframe\">\n",
       "  <thead>\n",
       "    <tr style=\"text-align: right;\">\n",
       "      <th></th>\n",
       "      <th>Canceled</th>\n",
       "      <th>Month</th>\n",
       "      <th>DepartureTime</th>\n",
       "      <th>UniqueCarrier</th>\n",
       "      <th>SchedElapsedTime</th>\n",
       "      <th>ArrDelay</th>\n",
       "      <th>DepDelay</th>\n",
       "      <th>Distance</th>\n",
       "    </tr>\n",
       "  </thead>\n",
       "  <tbody>\n",
       "    <tr>\n",
       "      <th>0</th>\n",
       "      <td>1</td>\n",
       "      <td>12</td>\n",
       "      <td>814</td>\n",
       "      <td>UA</td>\n",
       "      <td>134</td>\n",
       "      <td>0</td>\n",
       "      <td>0</td>\n",
       "      <td>679</td>\n",
       "    </tr>\n",
       "    <tr>\n",
       "      <th>1</th>\n",
       "      <td>1</td>\n",
       "      <td>12</td>\n",
       "      <td>830</td>\n",
       "      <td>DL</td>\n",
       "      <td>90</td>\n",
       "      <td>0</td>\n",
       "      <td>0</td>\n",
       "      <td>214</td>\n",
       "    </tr>\n",
       "    <tr>\n",
       "      <th>2</th>\n",
       "      <td>1</td>\n",
       "      <td>1</td>\n",
       "      <td>1835</td>\n",
       "      <td>UA</td>\n",
       "      <td>213</td>\n",
       "      <td>0</td>\n",
       "      <td>0</td>\n",
       "      <td>1605</td>\n",
       "    </tr>\n",
       "    <tr>\n",
       "      <th>3</th>\n",
       "      <td>1</td>\n",
       "      <td>4</td>\n",
       "      <td>1730</td>\n",
       "      <td>AA</td>\n",
       "      <td>80</td>\n",
       "      <td>0</td>\n",
       "      <td>0</td>\n",
       "      <td>235</td>\n",
       "    </tr>\n",
       "    <tr>\n",
       "      <th>4</th>\n",
       "      <td>1</td>\n",
       "      <td>7</td>\n",
       "      <td>1442</td>\n",
       "      <td>UA</td>\n",
       "      <td>103</td>\n",
       "      <td>0</td>\n",
       "      <td>0</td>\n",
       "      <td>413</td>\n",
       "    </tr>\n",
       "  </tbody>\n",
       "</table>\n",
       "</div>"
      ],
      "text/plain": [
       "   Canceled  Month  DepartureTime UniqueCarrier  SchedElapsedTime  ArrDelay  \\\n",
       "0         1     12            814            UA               134         0   \n",
       "1         1     12            830            DL                90         0   \n",
       "2         1      1           1835            UA               213         0   \n",
       "3         1      4           1730            AA                80         0   \n",
       "4         1      7           1442            UA               103         0   \n",
       "\n",
       "   DepDelay  Distance  \n",
       "0         0       679  \n",
       "1         0       214  \n",
       "2         0      1605  \n",
       "3         0       235  \n",
       "4         0       413  "
      ]
     },
     "execution_count": 4,
     "metadata": {},
     "output_type": "execute_result"
    }
   ],
   "source": [
    "df.head()"
   ]
  },
  {
   "cell_type": "code",
   "execution_count": 5,
   "metadata": {},
   "outputs": [
    {
     "data": {
      "text/html": [
       "<div>\n",
       "<style scoped>\n",
       "    .dataframe tbody tr th:only-of-type {\n",
       "        vertical-align: middle;\n",
       "    }\n",
       "\n",
       "    .dataframe tbody tr th {\n",
       "        vertical-align: top;\n",
       "    }\n",
       "\n",
       "    .dataframe thead th {\n",
       "        text-align: right;\n",
       "    }\n",
       "</style>\n",
       "<table border=\"1\" class=\"dataframe\">\n",
       "  <thead>\n",
       "    <tr style=\"text-align: right;\">\n",
       "      <th></th>\n",
       "      <th>Canceled</th>\n",
       "      <th>Month</th>\n",
       "      <th>DepartureTime</th>\n",
       "      <th>UniqueCarrier</th>\n",
       "      <th>SchedElapsedTime</th>\n",
       "      <th>ArrDelay</th>\n",
       "      <th>DepDelay</th>\n",
       "      <th>Distance</th>\n",
       "    </tr>\n",
       "  </thead>\n",
       "  <tbody>\n",
       "    <tr>\n",
       "      <th>5995</th>\n",
       "      <td>0</td>\n",
       "      <td>6</td>\n",
       "      <td>1725</td>\n",
       "      <td>AA</td>\n",
       "      <td>115</td>\n",
       "      <td>17</td>\n",
       "      <td>30</td>\n",
       "      <td>597</td>\n",
       "    </tr>\n",
       "    <tr>\n",
       "      <th>5996</th>\n",
       "      <td>0</td>\n",
       "      <td>9</td>\n",
       "      <td>1945</td>\n",
       "      <td>DL</td>\n",
       "      <td>127</td>\n",
       "      <td>-19</td>\n",
       "      <td>-9</td>\n",
       "      <td>752</td>\n",
       "    </tr>\n",
       "    <tr>\n",
       "      <th>5997</th>\n",
       "      <td>0</td>\n",
       "      <td>8</td>\n",
       "      <td>1850</td>\n",
       "      <td>DL</td>\n",
       "      <td>101</td>\n",
       "      <td>6</td>\n",
       "      <td>-4</td>\n",
       "      <td>481</td>\n",
       "    </tr>\n",
       "    <tr>\n",
       "      <th>5998</th>\n",
       "      <td>0</td>\n",
       "      <td>7</td>\n",
       "      <td>1720</td>\n",
       "      <td>AA</td>\n",
       "      <td>210</td>\n",
       "      <td>178</td>\n",
       "      <td>42</td>\n",
       "      <td>1302</td>\n",
       "    </tr>\n",
       "    <tr>\n",
       "      <th>5999</th>\n",
       "      <td>0</td>\n",
       "      <td>9</td>\n",
       "      <td>1955</td>\n",
       "      <td>AA</td>\n",
       "      <td>265</td>\n",
       "      <td>4</td>\n",
       "      <td>3</td>\n",
       "      <td>1721</td>\n",
       "    </tr>\n",
       "  </tbody>\n",
       "</table>\n",
       "</div>"
      ],
      "text/plain": [
       "      Canceled  Month  DepartureTime UniqueCarrier  SchedElapsedTime  \\\n",
       "5995         0      6           1725            AA               115   \n",
       "5996         0      9           1945            DL               127   \n",
       "5997         0      8           1850            DL               101   \n",
       "5998         0      7           1720            AA               210   \n",
       "5999         0      9           1955            AA               265   \n",
       "\n",
       "      ArrDelay  DepDelay  Distance  \n",
       "5995        17        30       597  \n",
       "5996       -19        -9       752  \n",
       "5997         6        -4       481  \n",
       "5998       178        42      1302  \n",
       "5999         4         3      1721  "
      ]
     },
     "execution_count": 5,
     "metadata": {},
     "output_type": "execute_result"
    }
   ],
   "source": [
    "df.tail()"
   ]
  },
  {
   "cell_type": "code",
   "execution_count": 6,
   "metadata": {},
   "outputs": [
    {
     "name": "stdout",
     "output_type": "stream",
     "text": [
      "<class 'pandas.core.frame.DataFrame'>\n",
      "RangeIndex: 6000 entries, 0 to 5999\n",
      "Data columns (total 8 columns):\n",
      "Canceled            6000 non-null int64\n",
      "Month               6000 non-null int64\n",
      "DepartureTime       6000 non-null int64\n",
      "UniqueCarrier       6000 non-null object\n",
      "SchedElapsedTime    6000 non-null int64\n",
      "ArrDelay            6000 non-null int64\n",
      "DepDelay            6000 non-null int64\n",
      "Distance            6000 non-null int64\n",
      "dtypes: int64(7), object(1)\n",
      "memory usage: 375.1+ KB\n"
     ]
    }
   ],
   "source": [
    "df.info()"
   ]
  },
  {
   "cell_type": "code",
   "execution_count": 7,
   "metadata": {},
   "outputs": [
    {
     "data": {
      "text/html": [
       "<div>\n",
       "<style scoped>\n",
       "    .dataframe tbody tr th:only-of-type {\n",
       "        vertical-align: middle;\n",
       "    }\n",
       "\n",
       "    .dataframe tbody tr th {\n",
       "        vertical-align: top;\n",
       "    }\n",
       "\n",
       "    .dataframe thead th {\n",
       "        text-align: right;\n",
       "    }\n",
       "</style>\n",
       "<table border=\"1\" class=\"dataframe\">\n",
       "  <thead>\n",
       "    <tr style=\"text-align: right;\">\n",
       "      <th></th>\n",
       "      <th>Canceled</th>\n",
       "      <th>Month</th>\n",
       "      <th>DepartureTime</th>\n",
       "      <th>SchedElapsedTime</th>\n",
       "      <th>ArrDelay</th>\n",
       "      <th>DepDelay</th>\n",
       "      <th>Distance</th>\n",
       "    </tr>\n",
       "  </thead>\n",
       "  <tbody>\n",
       "    <tr>\n",
       "      <th>count</th>\n",
       "      <td>6000.000000</td>\n",
       "      <td>6000.000000</td>\n",
       "      <td>6000.000000</td>\n",
       "      <td>6000.000000</td>\n",
       "      <td>6000.000000</td>\n",
       "      <td>6000.000000</td>\n",
       "      <td>6000.000000</td>\n",
       "    </tr>\n",
       "    <tr>\n",
       "      <th>mean</th>\n",
       "      <td>0.166667</td>\n",
       "      <td>6.220167</td>\n",
       "      <td>1330.466500</td>\n",
       "      <td>161.693500</td>\n",
       "      <td>8.113000</td>\n",
       "      <td>9.148833</td>\n",
       "      <td>987.588833</td>\n",
       "    </tr>\n",
       "    <tr>\n",
       "      <th>std</th>\n",
       "      <td>0.372709</td>\n",
       "      <td>3.436325</td>\n",
       "      <td>459.118234</td>\n",
       "      <td>78.064979</td>\n",
       "      <td>35.763134</td>\n",
       "      <td>31.669299</td>\n",
       "      <td>646.666931</td>\n",
       "    </tr>\n",
       "    <tr>\n",
       "      <th>min</th>\n",
       "      <td>0.000000</td>\n",
       "      <td>1.000000</td>\n",
       "      <td>5.000000</td>\n",
       "      <td>40.000000</td>\n",
       "      <td>-72.000000</td>\n",
       "      <td>-16.000000</td>\n",
       "      <td>68.000000</td>\n",
       "    </tr>\n",
       "    <tr>\n",
       "      <th>25%</th>\n",
       "      <td>0.000000</td>\n",
       "      <td>3.000000</td>\n",
       "      <td>930.000000</td>\n",
       "      <td>105.000000</td>\n",
       "      <td>-8.000000</td>\n",
       "      <td>-3.000000</td>\n",
       "      <td>547.000000</td>\n",
       "    </tr>\n",
       "    <tr>\n",
       "      <th>50%</th>\n",
       "      <td>0.000000</td>\n",
       "      <td>6.000000</td>\n",
       "      <td>1325.000000</td>\n",
       "      <td>145.000000</td>\n",
       "      <td>0.000000</td>\n",
       "      <td>0.000000</td>\n",
       "      <td>837.000000</td>\n",
       "    </tr>\n",
       "    <tr>\n",
       "      <th>75%</th>\n",
       "      <td>0.000000</td>\n",
       "      <td>9.000000</td>\n",
       "      <td>1715.000000</td>\n",
       "      <td>200.000000</td>\n",
       "      <td>10.000000</td>\n",
       "      <td>6.000000</td>\n",
       "      <td>1249.000000</td>\n",
       "    </tr>\n",
       "    <tr>\n",
       "      <th>max</th>\n",
       "      <td>1.000000</td>\n",
       "      <td>12.000000</td>\n",
       "      <td>2359.000000</td>\n",
       "      <td>604.000000</td>\n",
       "      <td>410.000000</td>\n",
       "      <td>387.000000</td>\n",
       "      <td>4502.000000</td>\n",
       "    </tr>\n",
       "  </tbody>\n",
       "</table>\n",
       "</div>"
      ],
      "text/plain": [
       "          Canceled        Month  DepartureTime  SchedElapsedTime     ArrDelay  \\\n",
       "count  6000.000000  6000.000000    6000.000000       6000.000000  6000.000000   \n",
       "mean      0.166667     6.220167    1330.466500        161.693500     8.113000   \n",
       "std       0.372709     3.436325     459.118234         78.064979    35.763134   \n",
       "min       0.000000     1.000000       5.000000         40.000000   -72.000000   \n",
       "25%       0.000000     3.000000     930.000000        105.000000    -8.000000   \n",
       "50%       0.000000     6.000000    1325.000000        145.000000     0.000000   \n",
       "75%       0.000000     9.000000    1715.000000        200.000000    10.000000   \n",
       "max       1.000000    12.000000    2359.000000        604.000000   410.000000   \n",
       "\n",
       "          DepDelay     Distance  \n",
       "count  6000.000000  6000.000000  \n",
       "mean      9.148833   987.588833  \n",
       "std      31.669299   646.666931  \n",
       "min     -16.000000    68.000000  \n",
       "25%      -3.000000   547.000000  \n",
       "50%       0.000000   837.000000  \n",
       "75%       6.000000  1249.000000  \n",
       "max     387.000000  4502.000000  "
      ]
     },
     "execution_count": 7,
     "metadata": {},
     "output_type": "execute_result"
    }
   ],
   "source": [
    "df.describe()"
   ]
  },
  {
   "cell_type": "code",
   "execution_count": 8,
   "metadata": {},
   "outputs": [
    {
     "data": {
      "text/plain": [
       "Text(0.5,1,'Canceled Distribution')"
      ]
     },
     "execution_count": 8,
     "metadata": {},
     "output_type": "execute_result"
    },
    {
     "data": {
      "image/png": "[encoded data removed]",
      "text/plain": [
       "<Figure size 432x288 with 1 Axes>"
      ]
     },
     "metadata": {},
     "output_type": "display_data"
    }
   ],
   "source": [
    "sns.set_style('darkgrid')\n",
    "ax=sns.countplot(df['Canceled'])\n",
    "ax.set_title(\"Canceled Distribution\")"
   ]
  },
  {
   "cell_type": "code",
   "execution_count": 9,
   "metadata": {},
   "outputs": [
    {
     "data": {
      "image/png": "[encoded data removed]",
      "text/plain": [
       "<Figure size 432x288 with 1 Axes>"
      ]
     },
     "metadata": {},
     "output_type": "display_data"
    }
   ],
   "source": [
    "ax=sns.countplot(df['Month'])"
   ]
  },
  {
   "cell_type": "code",
   "execution_count": 32,
   "metadata": {},
   "outputs": [],
   "source": [
    "df2=df.copy()"
   ]
  },
  {
   "cell_type": "code",
   "execution_count": 33,
   "metadata": {},
   "outputs": [],
   "source": [
    "from scipy import stats"
   ]
  },
  {
   "cell_type": "code",
   "execution_count": 34,
   "metadata": {},
   "outputs": [],
   "source": [
    "df2['SchedElapsedTime_transform'] = stats.boxcox(df2['SchedElapsedTime'])[0]"
   ]
  },
  {
   "cell_type": "code",
   "execution_count": 35,
   "metadata": {},
   "outputs": [
    {
     "data": {
      "text/html": [
       "<div>\n",
       "<style scoped>\n",
       "    .dataframe tbody tr th:only-of-type {\n",
       "        vertical-align: middle;\n",
       "    }\n",
       "\n",
       "    .dataframe tbody tr th {\n",
       "        vertical-align: top;\n",
       "    }\n",
       "\n",
       "    .dataframe thead th {\n",
       "        text-align: right;\n",
       "    }\n",
       "</style>\n",
       "<table border=\"1\" class=\"dataframe\">\n",
       "  <thead>\n",
       "    <tr style=\"text-align: right;\">\n",
       "      <th></th>\n",
       "      <th>Canceled</th>\n",
       "      <th>Month</th>\n",
       "      <th>DepartureTime</th>\n",
       "      <th>UniqueCarrier</th>\n",
       "      <th>SchedElapsedTime</th>\n",
       "      <th>ArrDelay</th>\n",
       "      <th>DepDelay</th>\n",
       "      <th>Distance</th>\n",
       "      <th>SchedElapsedTime_transform</th>\n",
       "    </tr>\n",
       "  </thead>\n",
       "  <tbody>\n",
       "    <tr>\n",
       "      <th>0</th>\n",
       "      <td>1</td>\n",
       "      <td>12</td>\n",
       "      <td>814</td>\n",
       "      <td>UA</td>\n",
       "      <td>134</td>\n",
       "      <td>0</td>\n",
       "      <td>0</td>\n",
       "      <td>679</td>\n",
       "      <td>3.979778</td>\n",
       "    </tr>\n",
       "    <tr>\n",
       "      <th>1</th>\n",
       "      <td>1</td>\n",
       "      <td>12</td>\n",
       "      <td>830</td>\n",
       "      <td>DL</td>\n",
       "      <td>90</td>\n",
       "      <td>0</td>\n",
       "      <td>0</td>\n",
       "      <td>214</td>\n",
       "      <td>3.716421</td>\n",
       "    </tr>\n",
       "    <tr>\n",
       "      <th>2</th>\n",
       "      <td>1</td>\n",
       "      <td>1</td>\n",
       "      <td>1835</td>\n",
       "      <td>UA</td>\n",
       "      <td>213</td>\n",
       "      <td>0</td>\n",
       "      <td>0</td>\n",
       "      <td>1605</td>\n",
       "      <td>4.275034</td>\n",
       "    </tr>\n",
       "    <tr>\n",
       "      <th>3</th>\n",
       "      <td>1</td>\n",
       "      <td>4</td>\n",
       "      <td>1730</td>\n",
       "      <td>AA</td>\n",
       "      <td>80</td>\n",
       "      <td>0</td>\n",
       "      <td>0</td>\n",
       "      <td>235</td>\n",
       "      <td>3.636706</td>\n",
       "    </tr>\n",
       "    <tr>\n",
       "      <th>4</th>\n",
       "      <td>1</td>\n",
       "      <td>7</td>\n",
       "      <td>1442</td>\n",
       "      <td>UA</td>\n",
       "      <td>103</td>\n",
       "      <td>0</td>\n",
       "      <td>0</td>\n",
       "      <td>413</td>\n",
       "      <td>3.806725</td>\n",
       "    </tr>\n",
       "  </tbody>\n",
       "</table>\n",
       "</div>"
      ],
      "text/plain": [
       "   Canceled  Month  DepartureTime UniqueCarrier  SchedElapsedTime  ArrDelay  \\\n",
       "0         1     12            814            UA               134         0   \n",
       "1         1     12            830            DL                90         0   \n",
       "2         1      1           1835            UA               213         0   \n",
       "3         1      4           1730            AA                80         0   \n",
       "4         1      7           1442            UA               103         0   \n",
       "\n",
       "   DepDelay  Distance  SchedElapsedTime_transform  \n",
       "0         0       679                    3.979778  \n",
       "1         0       214                    3.716421  \n",
       "2         0      1605                    4.275034  \n",
       "3         0       235                    3.636706  \n",
       "4         0       413                    3.806725  "
      ]
     },
     "execution_count": 35,
     "metadata": {},
     "output_type": "execute_result"
    }
   ],
   "source": [
    "df2.head()\n"
   ]
  },
  {
   "cell_type": "code",
   "execution_count": 36,
   "metadata": {},
   "outputs": [],
   "source": [
    "df2.drop(['ArrDelay','DepDelay','Distance','SchedElapsedTime'],axis=1,inplace=True)"
   ]
  },
  {
   "cell_type": "code",
   "execution_count": 37,
   "metadata": {},
   "outputs": [
    {
     "data": {
      "text/html": [
       "<div>\n",
       "<style scoped>\n",
       "    .dataframe tbody tr th:only-of-type {\n",
       "        vertical-align: middle;\n",
       "    }\n",
       "\n",
       "    .dataframe tbody tr th {\n",
       "        vertical-align: top;\n",
       "    }\n",
       "\n",
       "    .dataframe thead th {\n",
       "        text-align: right;\n",
       "    }\n",
       "</style>\n",
       "<table border=\"1\" class=\"dataframe\">\n",
       "  <thead>\n",
       "    <tr style=\"text-align: right;\">\n",
       "      <th></th>\n",
       "      <th>Canceled</th>\n",
       "      <th>Month</th>\n",
       "      <th>DepartureTime</th>\n",
       "      <th>UniqueCarrier</th>\n",
       "      <th>SchedElapsedTime_transform</th>\n",
       "    </tr>\n",
       "  </thead>\n",
       "  <tbody>\n",
       "    <tr>\n",
       "      <th>0</th>\n",
       "      <td>1</td>\n",
       "      <td>12</td>\n",
       "      <td>814</td>\n",
       "      <td>UA</td>\n",
       "      <td>3.979778</td>\n",
       "    </tr>\n",
       "    <tr>\n",
       "      <th>1</th>\n",
       "      <td>1</td>\n",
       "      <td>12</td>\n",
       "      <td>830</td>\n",
       "      <td>DL</td>\n",
       "      <td>3.716421</td>\n",
       "    </tr>\n",
       "    <tr>\n",
       "      <th>2</th>\n",
       "      <td>1</td>\n",
       "      <td>1</td>\n",
       "      <td>1835</td>\n",
       "      <td>UA</td>\n",
       "      <td>4.275034</td>\n",
       "    </tr>\n",
       "    <tr>\n",
       "      <th>3</th>\n",
       "      <td>1</td>\n",
       "      <td>4</td>\n",
       "      <td>1730</td>\n",
       "      <td>AA</td>\n",
       "      <td>3.636706</td>\n",
       "    </tr>\n",
       "    <tr>\n",
       "      <th>4</th>\n",
       "      <td>1</td>\n",
       "      <td>7</td>\n",
       "      <td>1442</td>\n",
       "      <td>UA</td>\n",
       "      <td>3.806725</td>\n",
       "    </tr>\n",
       "  </tbody>\n",
       "</table>\n",
       "</div>"
      ],
      "text/plain": [
       "   Canceled  Month  DepartureTime UniqueCarrier  SchedElapsedTime_transform\n",
       "0         1     12            814            UA                    3.979778\n",
       "1         1     12            830            DL                    3.716421\n",
       "2         1      1           1835            UA                    4.275034\n",
       "3         1      4           1730            AA                    3.636706\n",
       "4         1      7           1442            UA                    3.806725"
      ]
     },
     "execution_count": 37,
     "metadata": {},
     "output_type": "execute_result"
    }
   ],
   "source": [
    "df2.head()"
   ]
  },
  {
   "cell_type": "code",
   "execution_count": 38,
   "metadata": {},
   "outputs": [],
   "source": [
    "#Feature Creation\n",
    "df2=pd.get_dummies(df2)\n"
   ]
  },
  {
   "cell_type": "code",
   "execution_count": 39,
   "metadata": {},
   "outputs": [
    {
     "data": {
      "text/html": [
       "<div>\n",
       "<style scoped>\n",
       "    .dataframe tbody tr th:only-of-type {\n",
       "        vertical-align: middle;\n",
       "    }\n",
       "\n",
       "    .dataframe tbody tr th {\n",
       "        vertical-align: top;\n",
       "    }\n",
       "\n",
       "    .dataframe thead th {\n",
       "        text-align: right;\n",
       "    }\n",
       "</style>\n",
       "<table border=\"1\" class=\"dataframe\">\n",
       "  <thead>\n",
       "    <tr style=\"text-align: right;\">\n",
       "      <th></th>\n",
       "      <th>Canceled</th>\n",
       "      <th>Month</th>\n",
       "      <th>DepartureTime</th>\n",
       "      <th>SchedElapsedTime_transform</th>\n",
       "      <th>UniqueCarrier_AA</th>\n",
       "      <th>UniqueCarrier_DL</th>\n",
       "      <th>UniqueCarrier_UA</th>\n",
       "    </tr>\n",
       "  </thead>\n",
       "  <tbody>\n",
       "    <tr>\n",
       "      <th>0</th>\n",
       "      <td>1</td>\n",
       "      <td>12</td>\n",
       "      <td>814</td>\n",
       "      <td>3.979778</td>\n",
       "      <td>0</td>\n",
       "      <td>0</td>\n",
       "      <td>1</td>\n",
       "    </tr>\n",
       "    <tr>\n",
       "      <th>1</th>\n",
       "      <td>1</td>\n",
       "      <td>12</td>\n",
       "      <td>830</td>\n",
       "      <td>3.716421</td>\n",
       "      <td>0</td>\n",
       "      <td>1</td>\n",
       "      <td>0</td>\n",
       "    </tr>\n",
       "    <tr>\n",
       "      <th>2</th>\n",
       "      <td>1</td>\n",
       "      <td>1</td>\n",
       "      <td>1835</td>\n",
       "      <td>4.275034</td>\n",
       "      <td>0</td>\n",
       "      <td>0</td>\n",
       "      <td>1</td>\n",
       "    </tr>\n",
       "    <tr>\n",
       "      <th>3</th>\n",
       "      <td>1</td>\n",
       "      <td>4</td>\n",
       "      <td>1730</td>\n",
       "      <td>3.636706</td>\n",
       "      <td>1</td>\n",
       "      <td>0</td>\n",
       "      <td>0</td>\n",
       "    </tr>\n",
       "    <tr>\n",
       "      <th>4</th>\n",
       "      <td>1</td>\n",
       "      <td>7</td>\n",
       "      <td>1442</td>\n",
       "      <td>3.806725</td>\n",
       "      <td>0</td>\n",
       "      <td>0</td>\n",
       "      <td>1</td>\n",
       "    </tr>\n",
       "  </tbody>\n",
       "</table>\n",
       "</div>"
      ],
      "text/plain": [
       "   Canceled  Month  DepartureTime  SchedElapsedTime_transform  \\\n",
       "0         1     12            814                    3.979778   \n",
       "1         1     12            830                    3.716421   \n",
       "2         1      1           1835                    4.275034   \n",
       "3         1      4           1730                    3.636706   \n",
       "4         1      7           1442                    3.806725   \n",
       "\n",
       "   UniqueCarrier_AA  UniqueCarrier_DL  UniqueCarrier_UA  \n",
       "0                 0                 0                 1  \n",
       "1                 0                 1                 0  \n",
       "2                 0                 0                 1  \n",
       "3                 1                 0                 0  \n",
       "4                 0                 0                 1  "
      ]
     },
     "execution_count": 39,
     "metadata": {},
     "output_type": "execute_result"
    }
   ],
   "source": [
    "df2.head()"
   ]
  },
  {
   "cell_type": "code",
   "execution_count": 45,
   "metadata": {},
   "outputs": [],
   "source": [
    "def clean_data(df):\n",
    "    df2=df.copy()\n",
    "    # Transform SchedElapsedTime\n",
    "    df2['SchedElapsedTime_transform'] = stats.boxcox(df2['SchedElapsedTime'])[0]\n",
    "\n",
    "    # Drop unnecessary columns\n",
    "    df2.drop(['ArrDelay','DepDelay','Distance','SchedElapsedTime'],axis=1,inplace=True)\n",
    "    \n",
    "    # Create dummy variables\n",
    "    df2 = pd.get_dummies(df2)\n",
    "    \n",
    "    # Return cleaned dataframe\n",
    "    return df2"
   ]
  },
  {
   "cell_type": "code",
   "execution_count": 46,
   "metadata": {},
   "outputs": [],
   "source": [
    "df1 = clean_data(df)\n"
   ]
  },
  {
   "cell_type": "code",
   "execution_count": 48,
   "metadata": {},
   "outputs": [
    {
     "data": {
      "text/html": [
       "<div>\n",
       "<style scoped>\n",
       "    .dataframe tbody tr th:only-of-type {\n",
       "        vertical-align: middle;\n",
       "    }\n",
       "\n",
       "    .dataframe tbody tr th {\n",
       "        vertical-align: top;\n",
       "    }\n",
       "\n",
       "    .dataframe thead th {\n",
       "        text-align: right;\n",
       "    }\n",
       "</style>\n",
       "<table border=\"1\" class=\"dataframe\">\n",
       "  <thead>\n",
       "    <tr style=\"text-align: right;\">\n",
       "      <th></th>\n",
       "      <th>Canceled</th>\n",
       "      <th>Month</th>\n",
       "      <th>DepartureTime</th>\n",
       "      <th>SchedElapsedTime_transform</th>\n",
       "      <th>UniqueCarrier_AA</th>\n",
       "      <th>UniqueCarrier_DL</th>\n",
       "      <th>UniqueCarrier_UA</th>\n",
       "    </tr>\n",
       "  </thead>\n",
       "  <tbody>\n",
       "    <tr>\n",
       "      <th>0</th>\n",
       "      <td>True</td>\n",
       "      <td>True</td>\n",
       "      <td>True</td>\n",
       "      <td>True</td>\n",
       "      <td>True</td>\n",
       "      <td>True</td>\n",
       "      <td>True</td>\n",
       "    </tr>\n",
       "  </tbody>\n",
       "</table>\n",
       "</div>"
      ],
      "text/plain": [
       "   Canceled  Month  DepartureTime  SchedElapsedTime_transform  \\\n",
       "0      True   True           True                        True   \n",
       "\n",
       "   UniqueCarrier_AA  UniqueCarrier_DL  UniqueCarrier_UA  \n",
       "0              True              True              True  "
      ]
     },
     "execution_count": 48,
     "metadata": {},
     "output_type": "execute_result"
    }
   ],
   "source": [
    "test=(df1 == df2)\n",
    "test.drop_duplicates(inplace=True)\n",
    "test.head()"
   ]
  },
  {
   "cell_type": "code",
   "execution_count": 49,
   "metadata": {},
   "outputs": [],
   "source": [
    "from sklearn.model_selection import train_test_split\n"
   ]
  },
  {
   "cell_type": "code",
   "execution_count": 51,
   "metadata": {},
   "outputs": [
    {
     "name": "stdout",
     "output_type": "stream",
     "text": [
      "      Month  DepartureTime  SchedElapsedTime_transform  UniqueCarrier_AA  \\\n",
      "0        12            814                    3.979778                 0   \n",
      "1        12            830                    3.716421                 0   \n",
      "2         1           1835                    4.275034                 0   \n",
      "3         4           1730                    3.636706                 1   \n",
      "4         7           1442                    3.806725                 0   \n",
      "5         2            820                    3.902191                 0   \n",
      "6         1           1430                    3.545329                 0   \n",
      "7         4            930                    4.073827                 1   \n",
      "8         4           1550                    3.960049                 1   \n",
      "9         6           1725                    3.896645                 0   \n",
      "10        3           1615                    3.787032                 1   \n",
      "11        4           1010                    3.934438                 1   \n",
      "12        9           1319                    3.965043                 0   \n",
      "13        4           1755                    4.151311                 1   \n",
      "14        4            820                    4.008202                 1   \n",
      "15        1           1955                    3.438499                 1   \n",
      "16       11           1850                    3.716421                 0   \n",
      "17       12            710                    4.361864                 1   \n",
      "18        7            913                    3.685750                 0   \n",
      "19       10           1740                    4.361864                 1   \n",
      "20        7           2059                    3.960049                 0   \n",
      "21        7           1925                    3.716421                 1   \n",
      "22        6           2040                    4.113847                 1   \n",
      "23        8           1609                    3.731205                 0   \n",
      "24        2           1940                    3.989404                 0   \n",
      "25        2           1136                    4.069671                 0   \n",
      "26        3            852                    4.450203                 0   \n",
      "27        5           1310                    3.885398                 0   \n",
      "28       12            825                    4.069671                 0   \n",
      "29        2           1705                    3.850347                 1   \n",
      "...     ...            ...                         ...               ...   \n",
      "5970      1           1855                    3.862257                 0   \n",
      "5971      2           1859                    4.317385                 0   \n",
      "5972      7            630                    4.052749                 1   \n",
      "5973      5           1611                    3.677839                 0   \n",
      "5974      2            930                    4.361864                 1   \n",
      "5975      2           1612                    3.994159                 0   \n",
      "5976      8           1155                    3.426764                 1   \n",
      "5977      3            710                    3.813151                 0   \n",
      "5978      6           2125                    3.918530                 0   \n",
      "5979      2           1820                    4.578362                 1   \n",
      "5980      7           1820                    3.944814                 0   \n",
      "5981      4           2210                    4.295188                 1   \n",
      "5982     12           1540                    3.438499                 1   \n",
      "5983      2           1150                    4.219708                 1   \n",
      "5984      4           1440                    3.773543                 0   \n",
      "5985     11            727                    4.548546                 0   \n",
      "5986     10            643                    4.121534                 0   \n",
      "5987      6            600                    3.949935                 0   \n",
      "5988      4            610                    4.030893                 0   \n",
      "5989      5           1742                    3.984611                 0   \n",
      "5990      2           1640                    4.266174                 1   \n",
      "5991     10           1406                    3.653486                 0   \n",
      "5992     12            747                    3.472468                 0   \n",
      "5993      3            831                    4.548546                 0   \n",
      "5994     12            700                    4.186516                 1   \n",
      "5995      6           1725                    3.879695                 1   \n",
      "5996      9           1945                    3.944814                 0   \n",
      "5997      8           1850                    3.793667                 0   \n",
      "5998      7           1720                    4.266174                 1   \n",
      "5999      9           1955                    4.410079                 1   \n",
      "\n",
      "      UniqueCarrier_DL  UniqueCarrier_UA  \n",
      "0                    0                 1  \n",
      "1                    1                 0  \n",
      "2                    0                 1  \n",
      "3                    0                 0  \n",
      "4                    0                 1  \n",
      "5                    1                 0  \n",
      "6                    1                 0  \n",
      "7                    0                 0  \n",
      "8                    0                 0  \n",
      "9                    1                 0  \n",
      "10                   0                 0  \n",
      "11                   0                 0  \n",
      "12                   1                 0  \n",
      "13                   0                 0  \n",
      "14                   0                 0  \n",
      "15                   0                 0  \n",
      "16                   1                 0  \n",
      "17                   0                 0  \n",
      "18                   0                 1  \n",
      "19                   0                 0  \n",
      "20                   0                 1  \n",
      "21                   0                 0  \n",
      "22                   0                 0  \n",
      "23                   0                 1  \n",
      "24                   0                 1  \n",
      "25                   0                 1  \n",
      "26                   0                 1  \n",
      "27                   0                 1  \n",
      "28                   1                 0  \n",
      "29                   0                 0  \n",
      "...                ...               ...  \n",
      "5970                 0                 1  \n",
      "5971                 1                 0  \n",
      "5972                 0                 0  \n",
      "5973                 0                 1  \n",
      "5974                 0                 0  \n",
      "5975                 0                 1  \n",
      "5976                 0                 0  \n",
      "5977                 1                 0  \n",
      "5978                 1                 0  \n",
      "5979                 0                 0  \n",
      "5980                 0                 1  \n",
      "5981                 0                 0  \n",
      "5982                 0                 0  \n",
      "5983                 0                 0  \n",
      "5984                 0                 1  \n",
      "5985                 0                 1  \n",
      "5986                 0                 1  \n",
      "5987                 0                 1  \n",
      "5988                 0                 1  \n",
      "5989                 0                 1  \n",
      "5990                 0                 0  \n",
      "5991                 0                 1  \n",
      "5992                 1                 0  \n",
      "5993                 0                 1  \n",
      "5994                 0                 0  \n",
      "5995                 0                 0  \n",
      "5996                 1                 0  \n",
      "5997                 1                 0  \n",
      "5998                 0                 0  \n",
      "5999                 0                 0  \n",
      "\n",
      "[6000 rows x 6 columns]\n"
     ]
    }
   ],
   "source": [
    "y=df1['Canceled']\n",
    "X=df1.drop('Canceled',axis=1)\n",
    "print(X)"
   ]
  },
  {
   "cell_type": "code",
   "execution_count": 52,
   "metadata": {},
   "outputs": [
    {
     "name": "stdout",
     "output_type": "stream",
     "text": [
      "0       1\n",
      "1       1\n",
      "2       1\n",
      "3       1\n",
      "4       1\n",
      "5       1\n",
      "6       1\n",
      "7       1\n",
      "8       1\n",
      "9       1\n",
      "10      1\n",
      "11      1\n",
      "12      1\n",
      "13      1\n",
      "14      1\n",
      "15      1\n",
      "16      1\n",
      "17      1\n",
      "18      1\n",
      "19      1\n",
      "20      1\n",
      "21      1\n",
      "22      1\n",
      "23      1\n",
      "24      1\n",
      "25      1\n",
      "26      1\n",
      "27      1\n",
      "28      1\n",
      "29      1\n",
      "       ..\n",
      "5970    0\n",
      "5971    0\n",
      "5972    0\n",
      "5973    0\n",
      "5974    0\n",
      "5975    0\n",
      "5976    0\n",
      "5977    0\n",
      "5978    0\n",
      "5979    0\n",
      "5980    0\n",
      "5981    0\n",
      "5982    0\n",
      "5983    0\n",
      "5984    0\n",
      "5985    0\n",
      "5986    0\n",
      "5987    0\n",
      "5988    0\n",
      "5989    0\n",
      "5990    0\n",
      "5991    0\n",
      "5992    0\n",
      "5993    0\n",
      "5994    0\n",
      "5995    0\n",
      "5996    0\n",
      "5997    0\n",
      "5998    0\n",
      "5999    0\n",
      "Name: Canceled, Length: 6000, dtype: int64\n"
     ]
    }
   ],
   "source": [
    "print(y)"
   ]
  },
  {
   "cell_type": "code",
   "execution_count": 53,
   "metadata": {},
   "outputs": [],
   "source": [
    "from sklearn.model_selection import StratifiedKFold\n",
    "from sklearn.linear_model import LogisticRegressionCV\n"
   ]
  },
  {
   "cell_type": "code",
   "execution_count": 54,
   "metadata": {},
   "outputs": [],
   "source": [
    "kfold=StratifiedKFold(n_splits=10,random_state=888)\n"
   ]
  },
  {
   "cell_type": "code",
   "execution_count": 56,
   "metadata": {},
   "outputs": [
    {
     "data": {
      "text/plain": [
       "LogisticRegressionCV(Cs=10, class_weight='balanced',\n",
       "           cv=StratifiedKFold(n_splits=10, random_state=888, shuffle=False),\n",
       "           dual=False, fit_intercept=True, intercept_scaling=1.0,\n",
       "           max_iter=100, multi_class='ovr', n_jobs=1, penalty='l2',\n",
       "           random_state=888, refit=True, scoring=None, solver='lbfgs',\n",
       "           tol=0.0001, verbose=0)"
      ]
     },
     "execution_count": 56,
     "metadata": {},
     "output_type": "execute_result"
    }
   ],
   "source": [
    "X_train, X_test, y_train, y_test = train_test_split(X,y,test_size=0.2,random_state=888)\n",
    "lr_model=LogisticRegressionCV(cv=kfold,class_weight='balanced',random_state=888)\n",
    "lr_model.fit(X_train,y_train)\n"
   ]
  },
  {
   "cell_type": "code",
   "execution_count": 57,
   "metadata": {},
   "outputs": [],
   "source": [
    "from sklearn.model_selection import cross_val_score\n",
    "from sklearn.metrics import confusion_matrix , classification_report"
   ]
  },
  {
   "cell_type": "code",
   "execution_count": 58,
   "metadata": {},
   "outputs": [
    {
     "name": "stdout",
     "output_type": "stream",
     "text": [
      "Mean Accuracy: 0.589377464022558\n",
      "Mean Log Loss: -0.6646552699211862\n",
      "Mean Area Under ROC Curve: 0.6360609846534241\n"
     ]
    }
   ],
   "source": [
    "def print_eval_scores(model, X_train, y_train, cv):\n",
    "    accuracy = cross_val_score(model, X_train, y_train, cv=cv,scoring='accuracy')\n",
    "    log_loss = cross_val_score(model, X_train, y_train, cv=cv, scoring='neg_log_loss')\n",
    "    roc_auc = cross_val_score(model, X_train, y_train, cv=cv, scoring='roc_auc')\n",
    "\n",
    "    print('Mean Accuracy: %s' % accuracy.mean())\n",
    "    print('Mean Log Loss: %s' % log_loss.mean())\n",
    "    print('Mean Area Under ROC Curve: %s' % roc_auc.mean())\n",
    "    \n",
    "print_eval_scores(lr_model, X_train, y_train, kfold)"
   ]
  },
  {
   "cell_type": "code",
   "execution_count": 59,
   "metadata": {},
   "outputs": [
    {
     "data": {
      "text/plain": [
       "0.5883333333333334"
      ]
     },
     "execution_count": 59,
     "metadata": {},
     "output_type": "execute_result"
    }
   ],
   "source": [
    "lr_model.score(X_test,y_test)"
   ]
  },
  {
   "cell_type": "code",
   "execution_count": 60,
   "metadata": {},
   "outputs": [],
   "source": [
    "y_pred_lr=lr_model.predict(X_test)\n"
   ]
  },
  {
   "cell_type": "code",
   "execution_count": 62,
   "metadata": {},
   "outputs": [
    {
     "name": "stdout",
     "output_type": "stream",
     "text": [
      "[1 1 0 ... 1 1 1]\n"
     ]
    }
   ],
   "source": [
    "print(y_pred_lr)"
   ]
  },
  {
   "cell_type": "code",
   "execution_count": 63,
   "metadata": {},
   "outputs": [
    {
     "name": "stdout",
     "output_type": "stream",
     "text": [
      "             precision    recall  f1-score   support\n",
      "\n",
      "          0       0.88      0.58      0.70       984\n",
      "          1       0.25      0.64      0.36       216\n",
      "\n",
      "avg / total       0.77      0.59      0.64      1200\n",
      "\n"
     ]
    }
   ],
   "source": [
    "print(classification_report(y_test,y_pred_lr))"
   ]
  },
  {
   "cell_type": "code",
   "execution_count": 64,
   "metadata": {},
   "outputs": [],
   "source": [
    "lr_cm=confusion_matrix(y_test,y_pred_lr)\n"
   ]
  },
  {
   "cell_type": "code",
   "execution_count": 65,
   "metadata": {},
   "outputs": [
    {
     "data": {
      "text/plain": [
       "Text(0.5,19.5,'Predicted Label')"
      ]
     },
     "execution_count": 65,
     "metadata": {},
     "output_type": "execute_result"
    },
    {
     "data": {
      "image/png": "[encoded data removed]",
      "text/plain": [
       "<Figure size 432x288 with 2 Axes>"
      ]
     },
     "metadata": {},
     "output_type": "display_data"
    }
   ],
   "source": [
    "ax = sns.heatmap(lr_cm,annot=True,cmap='coolwarm',fmt='.0f')\n",
    "ax.set_title('Logistic Regression Confusion Matrix')\n",
    "ax.set_ylabel('True Label')\n",
    "ax.set_xlabel('Predicted Label')"
   ]
  },
  {
   "cell_type": "code",
   "execution_count": 67,
   "metadata": {},
   "outputs": [],
   "source": [
    "import pickle\n",
    "lr_model_pickled=pickle.dumps(lr_model)"
   ]
  },
  {
   "cell_type": "code",
   "execution_count": 68,
   "metadata": {},
   "outputs": [
    {
     "name": "stdout",
     "output_type": "stream",
     "text": [
      "LogisticRegressionCV(Cs=10, class_weight='balanced',\n",
      "           cv=StratifiedKFold(n_splits=10, random_state=888, shuffle=False),\n",
      "           dual=False, fit_intercept=True, intercept_scaling=1.0,\n",
      "           max_iter=100, multi_class='ovr', n_jobs=1, penalty='l2',\n",
      "           random_state=888, refit=True, scoring=None, solver='lbfgs',\n",
      "           tol=0.0001, verbose=0)\n"
     ]
    }
   ],
   "source": [
    "print(lr_model)"
   ]
  },
  {
   "cell_type": "code",
   "execution_count": 69,
   "metadata": {},
   "outputs": [],
   "source": [
    "from sklearn.ensemble import RandomForestClassifier\n"
   ]
  },
  {
   "cell_type": "code",
   "execution_count": 70,
   "metadata": {},
   "outputs": [
    {
     "data": {
      "text/plain": [
       "RandomForestClassifier(bootstrap=True, class_weight='balanced',\n",
       "            criterion='gini', max_depth=None, max_features='auto',\n",
       "            max_leaf_nodes=None, min_impurity_decrease=0.0,\n",
       "            min_impurity_split=None, min_samples_leaf=1,\n",
       "            min_samples_split=2, min_weight_fraction_leaf=0.0,\n",
       "            n_estimators=100, n_jobs=1, oob_score=False, random_state=888,\n",
       "            verbose=0, warm_start=False)"
      ]
     },
     "execution_count": 70,
     "metadata": {},
     "output_type": "execute_result"
    }
   ],
   "source": [
    "rfc_model=RandomForestClassifier(n_estimators=100,random_state=888,class_weight='balanced')\n",
    "rfc_model.fit(X_train,y_train)"
   ]
  },
  {
   "cell_type": "code",
   "execution_count": 72,
   "metadata": {},
   "outputs": [
    {
     "name": "stdout",
     "output_type": "stream",
     "text": [
      "Mean Accuracy: 0.8014580720113079\n",
      "Mean Log Loss: -0.6970414502762601\n",
      "Mean Area Under ROC Curve: 0.6233896270367534\n"
     ]
    }
   ],
   "source": [
    "print_eval_scores(rfc_model,X_train,y_train,kfold)\n"
   ]
  },
  {
   "cell_type": "code",
   "execution_count": 73,
   "metadata": {},
   "outputs": [
    {
     "data": {
      "text/plain": [
       "0.8008333333333333"
      ]
     },
     "execution_count": 73,
     "metadata": {},
     "output_type": "execute_result"
    }
   ],
   "source": [
    "rfc_model.score(X_test,y_test)\n"
   ]
  },
  {
   "cell_type": "code",
   "execution_count": 75,
   "metadata": {},
   "outputs": [],
   "source": [
    "y_pred_rfc = rfc_model.predict(X_test)"
   ]
  },
  {
   "cell_type": "code",
   "execution_count": 76,
   "metadata": {},
   "outputs": [
    {
     "name": "stdout",
     "output_type": "stream",
     "text": [
      "             precision    recall  f1-score   support\n",
      "\n",
      "          0       0.83      0.95      0.89       984\n",
      "          1       0.35      0.12      0.18       216\n",
      "\n",
      "avg / total       0.75      0.80      0.76      1200\n",
      "\n"
     ]
    }
   ],
   "source": [
    "print(classification_report(y_test, y_pred_rfc))"
   ]
  },
  {
   "cell_type": "code",
   "execution_count": 78,
   "metadata": {},
   "outputs": [
    {
     "data": {
      "text/plain": [
       "Text(0.5,19.5,'Predicted Label')"
      ]
     },
     "execution_count": 78,
     "metadata": {},
     "output_type": "execute_result"
    },
    {
     "data": {
      "image/png": "[encoded data removed]",
      "text/plain": [
       "<Figure size 432x288 with 2 Axes>"
      ]
     },
     "metadata": {},
     "output_type": "display_data"
    }
   ],
   "source": [
    "rfc_cm = confusion_matrix(y_test,y_pred_rfc)\n",
    "\n",
    "ax = sns.heatmap(rfc_cm,annot=True,cmap='coolwarm',fmt='.0f')\n",
    "ax.set_title('Random Forest Classifier Confusion Matrix')\n",
    "ax.set_ylabel('True Label')\n",
    "ax.set_xlabel('Predicted Label')"
   ]
  },
  {
   "cell_type": "code",
   "execution_count": 79,
   "metadata": {},
   "outputs": [],
   "source": [
    "from sklearn.neighbors import KNeighborsClassifier"
   ]
  },
  {
   "cell_type": "code",
   "execution_count": 80,
   "metadata": {},
   "outputs": [
    {
     "data": {
      "text/plain": [
       "KNeighborsClassifier(algorithm='auto', leaf_size=30, metric='minkowski',\n",
       "           metric_params=None, n_jobs=1, n_neighbors=5, p=2,\n",
       "           weights='uniform')"
      ]
     },
     "execution_count": 80,
     "metadata": {},
     "output_type": "execute_result"
    }
   ],
   "source": [
    "knn_model=KNeighborsClassifier(n_neighbors=5)\n",
    "knn_model.fit(X_train,y_train)\n"
   ]
  },
  {
   "cell_type": "code",
   "execution_count": 81,
   "metadata": {},
   "outputs": [
    {
     "name": "stdout",
     "output_type": "stream",
     "text": [
      "Mean Accuracy: 0.8145878978786077\n",
      "Mean Log Loss: -2.2647147456956334\n",
      "Mean Area Under ROC Curve: 0.5712342606821881\n"
     ]
    }
   ],
   "source": [
    "print_eval_scores(knn_model,X_train,y_train,kfold)\n"
   ]
  },
  {
   "cell_type": "code",
   "execution_count": 82,
   "metadata": {},
   "outputs": [
    {
     "data": {
      "text/plain": [
       "0.8025"
      ]
     },
     "execution_count": 82,
     "metadata": {},
     "output_type": "execute_result"
    }
   ],
   "source": [
    "knn_model.score(X_test,y_test)"
   ]
  },
  {
   "cell_type": "code",
   "execution_count": 83,
   "metadata": {},
   "outputs": [],
   "source": [
    "y_pred_knn = knn_model.predict(X_test)\n"
   ]
  },
  {
   "cell_type": "code",
   "execution_count": 84,
   "metadata": {},
   "outputs": [
    {
     "name": "stdout",
     "output_type": "stream",
     "text": [
      "             precision    recall  f1-score   support\n",
      "\n",
      "          0       0.83      0.95      0.89       984\n",
      "          1       0.35      0.12      0.18       216\n",
      "\n",
      "avg / total       0.75      0.80      0.76      1200\n",
      "\n"
     ]
    }
   ],
   "source": [
    "print(classification_report(y_test, y_pred_rfc))"
   ]
  },
  {
   "cell_type": "code",
   "execution_count": 85,
   "metadata": {},
   "outputs": [
    {
     "data": {
      "text/plain": [
       "Text(0.5,19.5,'Predicted Label')"
      ]
     },
     "execution_count": 85,
     "metadata": {},
     "output_type": "execute_result"
    },
    {
     "data": {
      "image/png": "[encoded data removed]",
      "text/plain": [
       "<Figure size 432x288 with 2 Axes>"
      ]
     },
     "metadata": {},
     "output_type": "display_data"
    }
   ],
   "source": [
    "knn_cm = confusion_matrix(y_test,y_pred_knn)\n",
    "\n",
    "ax = sns.heatmap(knn_cm,annot=True,cmap='coolwarm',fmt='.0f')\n",
    "ax.set_title('K Nearest Neighbors Confusion Matrix')\n",
    "ax.set_ylabel('True Label')\n",
    "ax.set_xlabel('Predicted Label')"
   ]
  },
  {
   "cell_type": "code",
   "execution_count": null,
   "metadata": {},
   "outputs": [],
   "source": []
  }
 ],
 "metadata": {
  "kernelspec": {
   "display_name": "Python 3",
   "language": "python",
   "name": "python3"
  },
  "language_info": {
   "codemirror_mode": {
    "name": "ipython",
    "version": 3
   },
   "file_extension": ".py",
   "mimetype": "text/x-python",
   "name": "python",
   "nbconvert_exporter": "python",
   "pygments_lexer": "ipython3",
   "version": "3.6.5"
  }
 },
 "nbformat": 4,
 "nbformat_minor": 2
}
